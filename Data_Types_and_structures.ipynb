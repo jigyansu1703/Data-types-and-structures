{
  "nbformat": 4,
  "nbformat_minor": 0,
  "metadata": {
    "colab": {
      "provenance": [],
      "authorship_tag": "ABX9TyNJndzfkSXw+7btXo01dIET",
      "include_colab_link": true
    },
    "kernelspec": {
      "name": "python3",
      "display_name": "Python 3"
    },
    "language_info": {
      "name": "python"
    }
  },
  "cells": [
    {
      "cell_type": "markdown",
      "metadata": {
        "id": "view-in-github",
        "colab_type": "text"
      },
      "source": [
        "<a href=\"https://colab.research.google.com/github/jigyansu1703/Data-types-and-structures/blob/main/Data_Types_and_structures.ipynb\" target=\"_parent\"><img src=\"https://colab.research.google.com/assets/colab-badge.svg\" alt=\"Open In Colab\"/></a>"
      ]
    },
    {
      "cell_type": "markdown",
      "source": [],
      "metadata": {
        "id": "NRrn15qw2J_U"
      }
    },
    {
      "cell_type": "markdown",
      "source": [
        "# Data Types and Structures – Theory Q&A"
      ],
      "metadata": {
        "id": "7QRVi0e52zD0"
      }
    },
    {
      "cell_type": "markdown",
      "source": [
        "1. What are data structures, and why are they important?\n",
        "   - Data structures are ways of storing and organizing data in Python. Examples include list, tuple, string, set, and dictionary. They help in efficiently performing operations like searching, sorting, inserting, and deleting.\n",
        "2. Explain the difference between mutable and immutable data types with examples.\n",
        "  - Mutable: Can be changed after creation (e.g., list, set).\n",
        "  - Immutable: Cannot be changed after creation (e.g., string, tuple).\n",
        "3. What are the main differences between lists and tuples in Python?\n",
        "  - List: Mutable, ordered, allows changes.\n",
        "  - Tuple: Immutable, ordered, no changes allowed after creation.\n",
        "4. Describe how dictionaries store data.\n",
        "  - Dictionaries store data as key-value pairs.\n",
        "     Example: person = {\"name\": \"Nivedita\", \"age\": 25, \"city\": \"Nagod\"}\n",
        "\n",
        "5. Why might you use a set instead of a list?\n",
        "  - Use a set to store only unique elements (removes duplicates automatically).\n",
        "\n",
        "6. What is a string in Python, and how is it different from a list?\n",
        "  - String: Immutable, sequence of characters.\n",
        "  - List: Mutable, can contain any data type.\n",
        "\n",
        "7. How do tuples ensure data integrity in Python?\n",
        "  - Tuples are immutable, so the data cannot be changed after creation. This prevents accidental modification.\n",
        "\n",
        "8. What is a hash table, and how does it relate to dictionaries in Python?\n",
        "  - A hash table is a data structure that maps keys to values. Dictionaries use hash tables internally for fast access.\n",
        "\n",
        "9. Can lists contain different data types in Python?\n",
        "  - Yes. Example: my_list = [1, 2.3, \"apple\", True, 3+5j]\n",
        "\n",
        "10. Explain why strings are immutable in Python.\n",
        "  - Strings cannot be changed after creation. Example: string = \"Hello\"; string[0] = \"h\" → Error: strings are immutable.\n",
        "\n",
        "11. What advantages do dictionaries offer over lists?\n",
        "  - Dictionaries allow fast lookup using keys. They are useful when data is best described in key-value form.\n",
        "\n",
        "12. Describe a scenario where using a tuple would be preferable over a list.\n",
        "  - When you need to store fixed, unchangeable data like a date of birth or Aadhaar info:\n",
        "  - example = (\"Nivedita\", \"1234567890\", \"21-06-2000\")\n",
        "\n",
        "13. How do sets handle duplicate values?\n",
        "  - Sets automatically remove duplicates. Example: set([1,2,2,3]) → {1,2,3}\n",
        "\n",
        "14. How does the \"in\" keyword work differently for lists and dictionaries?\n",
        "  - List: Checks for value existence\n",
        "  - Dictionary: Checks for key existence\n",
        "\n",
        "15. Can you modify elements of a tuple? Why or why not?\n",
        "  - No. Tuples are immutable. You must convert it to a list to make changes.\n",
        "\n",
        "16. What is a nested dictionary? Give an example.\n",
        "  - A dictionary inside another dictionary.\n",
        "  - Example: students = {\"101\": {\"name\": \"Alice\", \"grade\": \"A\"}}\n",
        "\n",
        "17. Describe the time complexity of accessing elements in a dictionary.\n",
        "  - Average time complexity is O(1) due to hashing.\n",
        "\n",
        "18. In what situations are lists preferred over dictionaries?\n",
        "  - When you need ordered data or indexed access, and key-value pairs are not required.\n",
        "\n",
        "19. Why are dictionaries considered unordered, and how does that affect data retrieval?\n",
        "  - Older versions of Python (before 3.7) did not preserve order.\n",
        "     Now they do, but conceptually dictionaries are accessed via keys, not position.\n",
        "\n",
        "20. Explain the difference between a list and a dictionary in terms of data retrieval.\n",
        "  - List: Access via index → list[0]\n",
        "  - Dictionary: Access via key → dict[\"name\"]\n"
      ],
      "metadata": {
        "id": "Q1-ImSs-4K9C"
      }
    },
    {
      "cell_type": "markdown",
      "source": [
        "#Practice Question"
      ],
      "metadata": {
        "id": "Yvx3-Tok50N2"
      }
    },
    {
      "cell_type": "code",
      "source": [
        "# 1. Create a string with your name and print it\n",
        "name = \"Nivedita Pathak\"\n",
        "print(name)"
      ],
      "metadata": {
        "colab": {
          "base_uri": "https://localhost:8080/"
        },
        "id": "TGWr-zoE5l_3",
        "outputId": "db47973a-a79a-46b3-a741-f7b98f2a6444"
      },
      "execution_count": 2,
      "outputs": [
        {
          "output_type": "stream",
          "name": "stdout",
          "text": [
            "Nivedita Pathak\n"
          ]
        }
      ]
    },
    {
      "cell_type": "code",
      "source": [
        "# 2. Find the length of the string \"Hello World\"\n",
        "string = \"Hello World\"\n",
        "print(len(string))"
      ],
      "metadata": {
        "colab": {
          "base_uri": "https://localhost:8080/"
        },
        "id": "oQgz9Qar554W",
        "outputId": "9a75870c-cc7d-4853-bd9c-1aa31a0f5833"
      },
      "execution_count": 3,
      "outputs": [
        {
          "output_type": "stream",
          "name": "stdout",
          "text": [
            "11\n"
          ]
        }
      ]
    },
    {
      "cell_type": "code",
      "source": [
        "# 3. Slice the first 3 characters from the string \"Python Programming\"\n",
        "text = \"Python Programming\"\n",
        "print(text[:3])"
      ],
      "metadata": {
        "colab": {
          "base_uri": "https://localhost:8080/"
        },
        "id": "ZiVQ6kY35-wD",
        "outputId": "3d39083b-a6ff-4122-b3eb-1cd826d1c52f"
      },
      "execution_count": 4,
      "outputs": [
        {
          "output_type": "stream",
          "name": "stdout",
          "text": [
            "Pyt\n"
          ]
        }
      ]
    },
    {
      "cell_type": "code",
      "source": [
        "# 4. Convert the string \"hello\" to uppercase\n",
        "print(\"hello\".upper())"
      ],
      "metadata": {
        "colab": {
          "base_uri": "https://localhost:8080/"
        },
        "id": "fBCmuDEY6C24",
        "outputId": "ecf618ac-0b6e-4902-cd8c-a0ca0cd97f31"
      },
      "execution_count": 5,
      "outputs": [
        {
          "output_type": "stream",
          "name": "stdout",
          "text": [
            "HELLO\n"
          ]
        }
      ]
    },
    {
      "cell_type": "code",
      "source": [
        "# 5. Replace the word \"apple\" with \"orange\" in the string \"I like apple\"\n",
        "print(\"I like apple\".replace(\"apple\", \"orange\"))"
      ],
      "metadata": {
        "colab": {
          "base_uri": "https://localhost:8080/"
        },
        "id": "F7W_zHmx6Ftn",
        "outputId": "bb330d56-f5ac-4a97-d6dc-9f56c9887543"
      },
      "execution_count": 6,
      "outputs": [
        {
          "output_type": "stream",
          "name": "stdout",
          "text": [
            "I like orange\n"
          ]
        }
      ]
    },
    {
      "cell_type": "code",
      "source": [
        "# 6. Create a list with numbers 1 to 5 and print it\n",
        "numbers = [1, 2, 3, 4, 5]\n",
        "print(numbers)\n"
      ],
      "metadata": {
        "colab": {
          "base_uri": "https://localhost:8080/"
        },
        "id": "2U7XT8KA6JmU",
        "outputId": "66acecc3-aa51-4a8c-abf0-911e95c0d7c5"
      },
      "execution_count": 7,
      "outputs": [
        {
          "output_type": "stream",
          "name": "stdout",
          "text": [
            "[1, 2, 3, 4, 5]\n"
          ]
        }
      ]
    },
    {
      "cell_type": "code",
      "source": [
        "# 7. Append the number 10 to the list [1, 2, 3, 4]\n",
        "list1 = [1, 2, 3, 4]\n",
        "list1.append(10)\n",
        "print(list1)"
      ],
      "metadata": {
        "colab": {
          "base_uri": "https://localhost:8080/"
        },
        "id": "nGWpb0F66M0g",
        "outputId": "b0fb354f-d105-4dab-c0cd-922cfcc93299"
      },
      "execution_count": 8,
      "outputs": [
        {
          "output_type": "stream",
          "name": "stdout",
          "text": [
            "[1, 2, 3, 4, 10]\n"
          ]
        }
      ]
    },
    {
      "cell_type": "code",
      "source": [
        "# 8. Remove the number 3 from the list [1, 2, 3, 4, 5]\n",
        "list2 = [1, 2, 3, 4, 5]\n",
        "list2.remove(3)\n",
        "print(list2)"
      ],
      "metadata": {
        "colab": {
          "base_uri": "https://localhost:8080/"
        },
        "id": "35bd2BOf6Py5",
        "outputId": "e94020c4-6fd1-4386-cd76-d096675ec888"
      },
      "execution_count": 9,
      "outputs": [
        {
          "output_type": "stream",
          "name": "stdout",
          "text": [
            "[1, 2, 4, 5]\n"
          ]
        }
      ]
    },
    {
      "cell_type": "code",
      "source": [
        "# 9. Access the second element in the list ['a', 'b', 'c', 'd']\n",
        "chars = ['a', 'b', 'c', 'd']\n",
        "print(chars[1])"
      ],
      "metadata": {
        "colab": {
          "base_uri": "https://localhost:8080/"
        },
        "id": "OCr29W6F6Sr9",
        "outputId": "72d007d2-c038-42df-8abf-be32390f4f30"
      },
      "execution_count": 10,
      "outputs": [
        {
          "output_type": "stream",
          "name": "stdout",
          "text": [
            "b\n"
          ]
        }
      ]
    },
    {
      "cell_type": "code",
      "source": [
        "# 10. Reverse the list [10, 20, 30, 40, 50]\n",
        "rev_list = [10, 20, 30, 40, 50]\n",
        "rev_list.reverse()\n",
        "print(rev_list)"
      ],
      "metadata": {
        "colab": {
          "base_uri": "https://localhost:8080/"
        },
        "id": "ecrHGKUG6VM-",
        "outputId": "0a5d5d4e-3972-425b-e126-c3b6e7b26683"
      },
      "execution_count": 11,
      "outputs": [
        {
          "output_type": "stream",
          "name": "stdout",
          "text": [
            "[50, 40, 30, 20, 10]\n"
          ]
        }
      ]
    },
    {
      "cell_type": "code",
      "source": [
        "# 11. Create a tuple with the elements 100, 200, 300 and print it\n",
        "my_tuple = (100, 200, 300)\n",
        "print(my_tuple)"
      ],
      "metadata": {
        "colab": {
          "base_uri": "https://localhost:8080/"
        },
        "id": "-yDbgwAv6YCo",
        "outputId": "bb87cf1b-7673-4d56-8f82-124f8ddf3877"
      },
      "execution_count": 12,
      "outputs": [
        {
          "output_type": "stream",
          "name": "stdout",
          "text": [
            "(100, 200, 300)\n"
          ]
        }
      ]
    },
    {
      "cell_type": "code",
      "source": [
        "# 12. Access the second-to-last element of the tuple ('red', 'green', 'blue', 'yellow')\n",
        "colors = ('red', 'green', 'blue', 'yellow')\n",
        "print(colors[-2])"
      ],
      "metadata": {
        "colab": {
          "base_uri": "https://localhost:8080/"
        },
        "id": "WggqEqK56a3M",
        "outputId": "d5636e7e-48f9-45e9-b606-7e615f16fbfe"
      },
      "execution_count": 13,
      "outputs": [
        {
          "output_type": "stream",
          "name": "stdout",
          "text": [
            "blue\n"
          ]
        }
      ]
    },
    {
      "cell_type": "code",
      "source": [
        "# 13. Find the minimum number in the tuple (10, 20, 5, 15)\n",
        "nums = (10, 20, 5, 15)\n",
        "print(min(nums))"
      ],
      "metadata": {
        "colab": {
          "base_uri": "https://localhost:8080/"
        },
        "id": "QGDgrwB_6dsg",
        "outputId": "3aac4c8f-fe94-43e2-ecee-224aa94ee9a2"
      },
      "execution_count": 14,
      "outputs": [
        {
          "output_type": "stream",
          "name": "stdout",
          "text": [
            "5\n"
          ]
        }
      ]
    },
    {
      "cell_type": "code",
      "source": [
        "# 14. Find the index of the element \"cat\" in the tuple ('dog', 'cat', 'rabbit')\n",
        "pets = ('dog', 'cat', 'rabbit')\n",
        "print(pets.index('cat'))"
      ],
      "metadata": {
        "colab": {
          "base_uri": "https://localhost:8080/"
        },
        "id": "19mJrFTF6gcY",
        "outputId": "452dfe28-93ee-4438-d0b2-57731dd34f8e"
      },
      "execution_count": 15,
      "outputs": [
        {
          "output_type": "stream",
          "name": "stdout",
          "text": [
            "1\n"
          ]
        }
      ]
    },
    {
      "cell_type": "code",
      "source": [
        "# 15. Create a tuple containing three different fruits and check if \"kiwi\" is in it\n",
        "fruits = (\"mango\", \"kiwi\", \"apple\")\n",
        "print(\"kiwi\" in fruits)"
      ],
      "metadata": {
        "colab": {
          "base_uri": "https://localhost:8080/"
        },
        "id": "EEG8JPvQ6ioD",
        "outputId": "90853cd1-b6be-4f20-a151-1530b582cf26"
      },
      "execution_count": 16,
      "outputs": [
        {
          "output_type": "stream",
          "name": "stdout",
          "text": [
            "True\n"
          ]
        }
      ]
    },
    {
      "cell_type": "code",
      "source": [
        "# 16. Create a set with the elements 'a', 'b', 'c' and print it\n",
        "s = {'a', 'b', 'c'}\n",
        "print(s)"
      ],
      "metadata": {
        "colab": {
          "base_uri": "https://localhost:8080/"
        },
        "id": "FMpB1gQ06lMp",
        "outputId": "9ba27c75-f75d-4dcd-e6fe-62f573ae6c15"
      },
      "execution_count": 17,
      "outputs": [
        {
          "output_type": "stream",
          "name": "stdout",
          "text": [
            "{'a', 'b', 'c'}\n"
          ]
        }
      ]
    },
    {
      "cell_type": "code",
      "source": [
        "# 17. Clear all elements from the set {1, 2, 3, 4, 5}\n",
        "s = {1, 2, 3, 4, 5}\n",
        "s.clear()\n",
        "print(s)"
      ],
      "metadata": {
        "colab": {
          "base_uri": "https://localhost:8080/"
        },
        "id": "JyBZrGSN6n8V",
        "outputId": "09b206ac-da6d-43f7-ecb9-ed78c7ff7f1e"
      },
      "execution_count": 18,
      "outputs": [
        {
          "output_type": "stream",
          "name": "stdout",
          "text": [
            "set()\n"
          ]
        }
      ]
    },
    {
      "cell_type": "code",
      "source": [
        "# 18. Remove the element 4 from the set {1, 2, 3, 4}\n",
        "s = {1, 2, 3, 4}\n",
        "s.remove(4)\n",
        "print(s)"
      ],
      "metadata": {
        "colab": {
          "base_uri": "https://localhost:8080/"
        },
        "id": "LLIW0Jsg6qfN",
        "outputId": "b93e5fe8-588e-42ce-eea8-3025e5c18a7b"
      },
      "execution_count": 19,
      "outputs": [
        {
          "output_type": "stream",
          "name": "stdout",
          "text": [
            "{1, 2, 3}\n"
          ]
        }
      ]
    },
    {
      "cell_type": "code",
      "source": [
        "# 19. Find the union of two sets {1, 2, 3} and {3, 4, 5}\n",
        "s1 = {1, 2, 3}\n",
        "s2 = {3, 4, 5}\n",
        "print(s1.union(s2))"
      ],
      "metadata": {
        "colab": {
          "base_uri": "https://localhost:8080/"
        },
        "id": "awPh01uk6tBF",
        "outputId": "a2f0d830-be09-4f4b-c1ce-48edcc2aae02"
      },
      "execution_count": 20,
      "outputs": [
        {
          "output_type": "stream",
          "name": "stdout",
          "text": [
            "{1, 2, 3, 4, 5}\n"
          ]
        }
      ]
    },
    {
      "cell_type": "code",
      "source": [
        "# 20. Find the intersection of two sets {1, 2, 3} and {2, 3, 4}\n",
        "print({1, 2, 3}.intersection({2, 3, 4}))"
      ],
      "metadata": {
        "colab": {
          "base_uri": "https://localhost:8080/"
        },
        "id": "fg6f8BJ_6vvz",
        "outputId": "85add078-fb14-442a-900e-16b1401d4f9a"
      },
      "execution_count": 21,
      "outputs": [
        {
          "output_type": "stream",
          "name": "stdout",
          "text": [
            "{2, 3}\n"
          ]
        }
      ]
    },
    {
      "cell_type": "code",
      "source": [
        "# 21. Create a dictionary with the keys \"name\", \"age\", and \"city\", and print it\n",
        "person = {\"name\": \"Nivedita\", \"age\": 25, \"city\": \"Nagod\"}\n",
        "print(person)"
      ],
      "metadata": {
        "colab": {
          "base_uri": "https://localhost:8080/"
        },
        "id": "y89EnRwD6y_8",
        "outputId": "b4299e76-1aa0-41d5-ff43-fe198588f63a"
      },
      "execution_count": 22,
      "outputs": [
        {
          "output_type": "stream",
          "name": "stdout",
          "text": [
            "{'name': 'Nivedita', 'age': 25, 'city': 'Nagod'}\n"
          ]
        }
      ]
    },
    {
      "cell_type": "code",
      "source": [
        "# 22. Add a new key-value pair \"country\": \"USA\" to the dictionary\n",
        "person = {'name': 'John', 'age': 25}\n",
        "person[\"country\"] = \"USA\"\n",
        "print(person)"
      ],
      "metadata": {
        "colab": {
          "base_uri": "https://localhost:8080/"
        },
        "id": "Pol29Ob961I5",
        "outputId": "267c4798-22a1-450e-ca00-64c5bdd58035"
      },
      "execution_count": 23,
      "outputs": [
        {
          "output_type": "stream",
          "name": "stdout",
          "text": [
            "{'name': 'John', 'age': 25, 'country': 'USA'}\n"
          ]
        }
      ]
    },
    {
      "cell_type": "code",
      "source": [
        "# 23. Access the value associated with the key \"name\" in the dictionary\n",
        "d = {'name': 'Alice', 'age': 30}\n",
        "print(d['name'])"
      ],
      "metadata": {
        "colab": {
          "base_uri": "https://localhost:8080/"
        },
        "id": "yP0hVbz-64Oi",
        "outputId": "09f20c64-8865-400d-e8a9-ae459d343aa3"
      },
      "execution_count": 24,
      "outputs": [
        {
          "output_type": "stream",
          "name": "stdout",
          "text": [
            "Alice\n"
          ]
        }
      ]
    },
    {
      "cell_type": "code",
      "source": [
        "# 24. Remove the key \"age\" from the dictionary\n",
        "d = {'name': 'Bob', 'age': 22, 'city': 'New York'}\n",
        "del d['age']\n",
        "print(d)"
      ],
      "metadata": {
        "colab": {
          "base_uri": "https://localhost:8080/"
        },
        "id": "3jtWqdxv6633",
        "outputId": "d0e75053-0d47-48c8-974d-bbe9f3a097a8"
      },
      "execution_count": 25,
      "outputs": [
        {
          "output_type": "stream",
          "name": "stdout",
          "text": [
            "{'name': 'Bob', 'city': 'New York'}\n"
          ]
        }
      ]
    },
    {
      "cell_type": "code",
      "source": [
        "# 25. Check if the key \"city\" exists in the dictionary\n",
        "p = {'name': 'Alice', 'city': 'Paris'}\n",
        "print(\"city\" in p)"
      ],
      "metadata": {
        "colab": {
          "base_uri": "https://localhost:8080/"
        },
        "id": "b9DC-UvQ69LK",
        "outputId": "2b80ac40-a048-44f7-a2b5-9c9ea33ec808"
      },
      "execution_count": 26,
      "outputs": [
        {
          "output_type": "stream",
          "name": "stdout",
          "text": [
            "True\n"
          ]
        }
      ]
    },
    {
      "cell_type": "code",
      "source": [
        " # 26. Create a list, a tuple, and a dictionary, and print them all\n",
        "my_list = [1, 2.3, \"tomato\", \"grapes\"]\n",
        "my_tuple = (\"watermelon\", \"ladyfinger\")\n",
        "my_dict = {\"Name\": \"Nivedita\", \"Age\": 25}\n",
        "print(my_list)\n",
        "print(my_tuple)\n",
        "print(my_dict)"
      ],
      "metadata": {
        "colab": {
          "base_uri": "https://localhost:8080/"
        },
        "id": "I8eBY_hk6_U_",
        "outputId": "495a6d35-7afb-4a49-ef7c-abe9e1e95e7e"
      },
      "execution_count": 27,
      "outputs": [
        {
          "output_type": "stream",
          "name": "stdout",
          "text": [
            "[1, 2.3, 'tomato', 'grapes']\n",
            "('watermelon', 'ladyfinger')\n",
            "{'Name': 'Nivedita', 'Age': 25}\n"
          ]
        }
      ]
    },
    {
      "cell_type": "code",
      "source": [
        "# 27. Create a list of 5 random numbers between 1 and 100, sort it in ascending order, and print the result\n",
        "import random\n",
        "rand_nums = random.sample(range(1, 101), 5)\n",
        "rand_nums.sort()\n",
        "print(rand_nums)"
      ],
      "metadata": {
        "colab": {
          "base_uri": "https://localhost:8080/"
        },
        "id": "LJhXJg2B7DZ9",
        "outputId": "75b9cbf4-2659-4478-df5c-f8b3940ae04d"
      },
      "execution_count": 28,
      "outputs": [
        {
          "output_type": "stream",
          "name": "stdout",
          "text": [
            "[1, 3, 36, 44, 69]\n"
          ]
        }
      ]
    },
    {
      "cell_type": "code",
      "source": [
        "# 28. Create a list with strings and print the element at the third index\n",
        "veggies = [\"potato\", \"tomato\", \"onion\", \"chilli\"]\n",
        "print(veggies[3])"
      ],
      "metadata": {
        "colab": {
          "base_uri": "https://localhost:8080/"
        },
        "id": "4QeiqA_S7GE2",
        "outputId": "d0c6f13f-73b4-44d6-f5ea-dc4895fac4cf"
      },
      "execution_count": 29,
      "outputs": [
        {
          "output_type": "stream",
          "name": "stdout",
          "text": [
            "chilli\n"
          ]
        }
      ]
    },
    {
      "cell_type": "code",
      "source": [
        "# 29. Combine two dictionaries into one and print the result\n",
        "p1 = {'name1': 'Alice', 'city1': 'Paris'}\n",
        "p2 = {'name2': 'Arjun', 'city2': 'India'}\n",
        "combined = {**p1, **p2}\n",
        "print(combined)"
      ],
      "metadata": {
        "colab": {
          "base_uri": "https://localhost:8080/"
        },
        "id": "fxTFRMuA7Ij4",
        "outputId": "09d58e1a-83ab-4164-9886-30ec8ee0a05a"
      },
      "execution_count": 30,
      "outputs": [
        {
          "output_type": "stream",
          "name": "stdout",
          "text": [
            "{'name1': 'Alice', 'city1': 'Paris', 'name2': 'Arjun', 'city2': 'India'}\n"
          ]
        }
      ]
    },
    {
      "cell_type": "code",
      "source": [
        "# 30. Convert a list of strings into a set\n",
        "fruits = [\"potato\", \"orange\", \"tomato\", \"grapes\"]\n",
        "print(set(fruits))"
      ],
      "metadata": {
        "colab": {
          "base_uri": "https://localhost:8080/"
        },
        "id": "Qo_gc0hw7NCh",
        "outputId": "605751b1-a694-4ad5-d513-498ac688f314"
      },
      "execution_count": 31,
      "outputs": [
        {
          "output_type": "stream",
          "name": "stdout",
          "text": [
            "{'potato', 'orange', 'tomato', 'grapes'}\n"
          ]
        }
      ]
    }
  ]
}