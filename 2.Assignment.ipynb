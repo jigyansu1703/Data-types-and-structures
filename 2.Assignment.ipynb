{
 "cells": [
  {
   "cell_type": "raw",
   "id": "cbdb8642-a0a5-4be4-806d-45cf72332b43",
   "metadata": {},
   "source": [
    "Practice Question"
   ]
  },
  {
   "cell_type": "code",
   "execution_count": 1,
   "id": "f6c9d5f8-dc73-40fa-8328-dcee4a94a857",
   "metadata": {},
   "outputs": [
    {
     "name": "stdout",
     "output_type": "stream",
     "text": [
      "Jigyansu Tripathi\n"
     ]
    }
   ],
   "source": [
    "#Write a code to create a string with your name and print it.\n",
    "Name = \"Jigyansu Tripathi\"\n",
    "print(Name)"
   ]
  },
  {
   "cell_type": "code",
   "execution_count": 2,
   "id": "494f4344-1028-420f-bc4b-1c374523dbfa",
   "metadata": {},
   "outputs": [
    {
     "data": {
      "text/plain": [
       "11"
      ]
     },
     "execution_count": 2,
     "metadata": {},
     "output_type": "execute_result"
    }
   ],
   "source": [
    "#write a code to find the length of the string \"Hello World\"\n",
    "Name = \"Hello World\"\n",
    "len(Name)"
   ]
  },
  {
   "cell_type": "code",
   "execution_count": 3,
   "id": "9cca506b-cca6-4ac4-b841-050051e02e58",
   "metadata": {},
   "outputs": [
    {
     "data": {
      "text/plain": [
       "'Pyt'"
      ]
     },
     "execution_count": 3,
     "metadata": {},
     "output_type": "execute_result"
    }
   ],
   "source": [
    "#Write a code to slice the first 3 characters from the string \"Python Programming\".\n",
    "Text = \"Python Programming\"\n",
    "Text[:3]"
   ]
  },
  {
   "cell_type": "code",
   "execution_count": 4,
   "id": "d8a0c5c7-e301-47cc-b435-9ee15180e74b",
   "metadata": {},
   "outputs": [
    {
     "data": {
      "text/plain": [
       "'HELLO'"
      ]
     },
     "execution_count": 4,
     "metadata": {},
     "output_type": "execute_result"
    }
   ],
   "source": [
    "#Write a code to convert the string \"hello\" to uppercase.\n",
    "string = \"hello\"\n",
    "string.upper()\n"
   ]
  },
  {
   "cell_type": "code",
   "execution_count": 5,
   "id": "85c038b0-700f-4f27-a3f6-6f79ee7e36f1",
   "metadata": {},
   "outputs": [
    {
     "data": {
      "text/plain": [
       "'I like orange'"
      ]
     },
     "execution_count": 5,
     "metadata": {},
     "output_type": "execute_result"
    }
   ],
   "source": [
    "#Write a code to replace the word \"apple\" with \"orange\" in the string \"I like apple\".\n",
    "fruit = \"I like apple\"\n",
    "New_friut = fruit.replace(\"apple\",\"orange\")\n",
    "New_friut"
   ]
  },
  {
   "cell_type": "code",
   "execution_count": 6,
   "id": "3fb23f82-392f-4730-b8f1-2461e36a488e",
   "metadata": {},
   "outputs": [],
   "source": [
    "#Write a code to create a list with numbers 1 to 5 and print it."
   ]
  },
  {
   "cell_type": "code",
   "execution_count": 7,
   "id": "b463cd34-99a1-47bb-b6db-9b1fc59cbda7",
   "metadata": {},
   "outputs": [
    {
     "data": {
      "text/plain": [
       "[1, 2, 3, 4, 5]"
      ]
     },
     "execution_count": 7,
     "metadata": {},
     "output_type": "execute_result"
    }
   ],
   "source": [
    "Num_list = [1,2,3,4,5]\n",
    "Num_list"
   ]
  },
  {
   "cell_type": "code",
   "execution_count": 8,
   "id": "e3b380e5-c1e4-49f7-95f2-cd2f4f7a8bcf",
   "metadata": {},
   "outputs": [
    {
     "data": {
      "text/plain": [
       "[1, 2, 3, 4, 10]"
      ]
     },
     "execution_count": 8,
     "metadata": {},
     "output_type": "execute_result"
    }
   ],
   "source": [
    "#Write a code to append the number 10 to the list [1, 2, 3, 4]\n",
    "List = [1,2,3,4]\n",
    "List.append(10)\n",
    "List"
   ]
  },
  {
   "cell_type": "code",
   "execution_count": 9,
   "id": "67f22b49-3b5b-4e5e-a22a-aea913b8b12b",
   "metadata": {},
   "outputs": [
    {
     "data": {
      "text/plain": [
       "[1, 2, 4, 5]"
      ]
     },
     "execution_count": 9,
     "metadata": {},
     "output_type": "execute_result"
    }
   ],
   "source": [
    "#Write a code to remove the number 3 from the list [1, 2, 3, 4, 5].\n",
    "list1 = [1,2,3,4,5]\n",
    "list1.remove(3)\n",
    "list1"
   ]
  },
  {
   "cell_type": "code",
   "execution_count": 10,
   "id": "7b3457bc-9909-4537-9c71-2dc9703b17d7",
   "metadata": {},
   "outputs": [
    {
     "data": {
      "text/plain": [
       "'b'"
      ]
     },
     "execution_count": 10,
     "metadata": {},
     "output_type": "execute_result"
    }
   ],
   "source": [
    "#Write a code to access the second element in the list ['a', 'b', 'c', 'd'].\n",
    "Access = ['a', 'b', 'c', 'd']\n",
    "Access[1]"
   ]
  },
  {
   "cell_type": "code",
   "execution_count": 11,
   "id": "a1ed4365-2dc6-4746-890a-5b4c4218f406",
   "metadata": {},
   "outputs": [
    {
     "data": {
      "text/plain": [
       "[50, 40, 30, 20, 10]"
      ]
     },
     "execution_count": 11,
     "metadata": {},
     "output_type": "execute_result"
    }
   ],
   "source": [
    "#Write a code to reverse the list [10, 20, 30, 40, 50].\n",
    "l1 = [10,20,30,40,50]\n",
    "l1.reverse()\n",
    "l1"
   ]
  },
  {
   "cell_type": "code",
   "execution_count": 12,
   "id": "0fc6cefb-273f-4507-b811-a5b27a078169",
   "metadata": {},
   "outputs": [
    {
     "name": "stdout",
     "output_type": "stream",
     "text": [
      "(100, 200, 300)\n"
     ]
    }
   ],
   "source": [
    "#Write a code to create a tuple with the elements 100, 200, 300 and print it.\n",
    "t1 = (100,200,300)\n",
    "print(t1)"
   ]
  },
  {
   "cell_type": "code",
   "execution_count": 13,
   "id": "967f83ad-cb53-4621-b959-15a4377ddaa6",
   "metadata": {},
   "outputs": [],
   "source": [
    "#Write a code to access the second-to-last element of the tuple ('red', 'green', 'blue', 'yellow')."
   ]
  },
  {
   "cell_type": "code",
   "execution_count": 14,
   "id": "7a099fc5-dc3f-4319-888e-0ad79cb5a195",
   "metadata": {},
   "outputs": [
    {
     "data": {
      "text/plain": [
       "('green', 'blue', 'yellow')"
      ]
     },
     "execution_count": 14,
     "metadata": {},
     "output_type": "execute_result"
    }
   ],
   "source": [
    "t1 = ('red', 'green', 'blue', 'yellow')\n",
    "t1[1:]"
   ]
  },
  {
   "cell_type": "code",
   "execution_count": 15,
   "id": "76049fba-79be-4e4a-b0ed-5b5779c569e1",
   "metadata": {},
   "outputs": [
    {
     "data": {
      "text/plain": [
       "5"
      ]
     },
     "execution_count": 15,
     "metadata": {},
     "output_type": "execute_result"
    }
   ],
   "source": [
    "#Write a code to find the minimum number in the tuple (10, 20, 5, 15).\n",
    "t1 = (10,20,5,15)\n",
    "min(t1)"
   ]
  },
  {
   "cell_type": "code",
   "execution_count": 16,
   "id": "48b8c7b2-b568-40b8-9770-d783342ac849",
   "metadata": {},
   "outputs": [
    {
     "data": {
      "text/plain": [
       "1"
      ]
     },
     "execution_count": 16,
     "metadata": {},
     "output_type": "execute_result"
    }
   ],
   "source": [
    "#Write a code to find the index of the element \"cat\" in the tuple ('dog', 'cat', 'rabbit').\n",
    "t1 = ('dog', 'cat', 'rabbit')\n",
    "t1.index('cat')"
   ]
  },
  {
   "cell_type": "code",
   "execution_count": 17,
   "id": "8605aa6f-1e05-4bdf-a038-3c8f75cd7f60",
   "metadata": {},
   "outputs": [
    {
     "name": "stdout",
     "output_type": "stream",
     "text": [
      "yes\n"
     ]
    }
   ],
   "source": [
    "#Write a code to create a tuple containing three different fruits and check if \"kiwi\" is in it.\n",
    "fruits=(\"apple\",\"orange\",\"banana\",\"kiwi\")\n",
    "if \"kiwi\" in fruits:\n",
    "    print(\"yes\")\n",
    "else:\n",
    "    print(\"no\")"
   ]
  },
  {
   "cell_type": "code",
   "execution_count": 18,
   "id": "ce83435a-a0cf-47e5-8028-80d6793e327f",
   "metadata": {},
   "outputs": [],
   "source": [
    "#Write a code to create a set with the elements 'a', 'b', 'c' and print it."
   ]
  },
  {
   "cell_type": "code",
   "execution_count": 19,
   "id": "2ab7401e-f839-4732-a152-8d8b0e53f3bb",
   "metadata": {},
   "outputs": [
    {
     "name": "stdout",
     "output_type": "stream",
     "text": [
      "{'b', 'c', 'a'}\n"
     ]
    }
   ],
   "source": [
    "set1={'a', 'b', 'c'}\n",
    "print(set1)"
   ]
  },
  {
   "cell_type": "code",
   "execution_count": 20,
   "id": "f26ee90f-53f3-4aad-827d-ea4234a87922",
   "metadata": {},
   "outputs": [
    {
     "data": {
      "text/plain": [
       "set()"
      ]
     },
     "execution_count": 20,
     "metadata": {},
     "output_type": "execute_result"
    }
   ],
   "source": [
    "#Write a code to clear all elements from the set {1, 2, 3, 4, 5}.\n",
    "s = {1, 2, 3, 4, 5}\n",
    "s.clear()\n",
    "s"
   ]
  },
  {
   "cell_type": "code",
   "execution_count": 21,
   "id": "65d1c8f3-e0cf-4b89-a3e4-2c9f336992c5",
   "metadata": {},
   "outputs": [
    {
     "data": {
      "text/plain": [
       "{1, 2, 3}"
      ]
     },
     "execution_count": 21,
     "metadata": {},
     "output_type": "execute_result"
    }
   ],
   "source": [
    "#Write a code to remove the element 4 from the set {1, 2, 3, 4}.\n",
    "s = {1, 2, 3, 4}\n",
    "s.remove(4)\n",
    "s"
   ]
  },
  {
   "cell_type": "code",
   "execution_count": 22,
   "id": "11da1957-9b54-4bab-87e4-a2b21399eb2b",
   "metadata": {},
   "outputs": [
    {
     "data": {
      "text/plain": [
       "{1, 2, 3, 4, 5}"
      ]
     },
     "execution_count": 22,
     "metadata": {},
     "output_type": "execute_result"
    }
   ],
   "source": [
    "#Write a code to find the union of two sets {1, 2, 3} and {3, 4, 5}.\n",
    "s1 = {1,2,3}\n",
    "s2 = {3,4,5}\n",
    "s1 | s2"
   ]
  },
  {
   "cell_type": "code",
   "execution_count": 23,
   "id": "7fb29b7e-296b-48f9-bf4d-4e94088daf34",
   "metadata": {},
   "outputs": [
    {
     "data": {
      "text/plain": [
       "{3}"
      ]
     },
     "execution_count": 23,
     "metadata": {},
     "output_type": "execute_result"
    }
   ],
   "source": [
    "#Write a code to find the intersection of two sets {1, 2, 3} and {2, 3, 4}.\n",
    "s1 = {1,2,3}\n",
    "s2 = {3,4,5}\n",
    "s1 & s2"
   ]
  },
  {
   "cell_type": "code",
   "execution_count": 24,
   "id": "72a33f75-8e95-411b-9121-712548480010",
   "metadata": {},
   "outputs": [
    {
     "data": {
      "text/plain": [
       "{'name': 'jigyansu', 'age': 25, 'city': 'KGP'}"
      ]
     },
     "execution_count": 24,
     "metadata": {},
     "output_type": "execute_result"
    }
   ],
   "source": [
    "#Write a code to create a dictionary with the keys \"name\", \"age\", and \"city\", and print it.\n",
    "dict1 = {\"name\":\"jigyansu\" ,\"age\":25 ,\"city\":\"KGP\" }\n",
    "dict1"
   ]
  },
  {
   "cell_type": "code",
   "execution_count": 25,
   "id": "4f996fe7-d3f0-4c58-a74b-8c303bfb42e8",
   "metadata": {},
   "outputs": [
    {
     "data": {
      "text/plain": [
       "{'name': 'John', 'age': 25, 'country': ['USA']}"
      ]
     },
     "execution_count": 25,
     "metadata": {},
     "output_type": "execute_result"
    }
   ],
   "source": [
    "#Write a code to add a new key-value pair \"country\": \"USA\" to the dictionary {'name': 'John', 'age': 25}.\n",
    "d1 = {'name': 'John', 'age': 25}\n",
    "d1[\"country\"]= [\"USA\"]\n",
    "d1"
   ]
  },
  {
   "cell_type": "code",
   "execution_count": 26,
   "id": "2776ee87-9764-4107-bc88-e07878be96fa",
   "metadata": {},
   "outputs": [
    {
     "data": {
      "text/plain": [
       "'Alice'"
      ]
     },
     "execution_count": 26,
     "metadata": {},
     "output_type": "execute_result"
    }
   ],
   "source": [
    "#Write a code to access the value associated with the key \"name\" in the dictionary {'name': 'Alice', 'age': 30}.\n",
    "d = {'name': 'Alice', 'age': 30}\n",
    "d[\"name\"]"
   ]
  },
  {
   "cell_type": "code",
   "execution_count": 27,
   "id": "c41dda0f-e7d8-46b5-a04d-fb012e188385",
   "metadata": {},
   "outputs": [
    {
     "data": {
      "text/plain": [
       "{'name': 'Bob', 'city': 'New York'}"
      ]
     },
     "execution_count": 27,
     "metadata": {},
     "output_type": "execute_result"
    }
   ],
   "source": [
    "#Write a code to remove the key \"age\" from the dictionary {'name': 'Bob', 'age': 22, 'city': 'New York'}.\n",
    "d2 = {'name': 'Bob', 'age': 22, 'city': 'New York'}\n",
    "d2.pop('age')\n",
    "d2"
   ]
  },
  {
   "cell_type": "code",
   "execution_count": 28,
   "id": "bde9dc96-2f83-449f-a9f1-da32ad5120d4",
   "metadata": {},
   "outputs": [
    {
     "name": "stdout",
     "output_type": "stream",
     "text": [
      "yes city exists\n"
     ]
    }
   ],
   "source": [
    "#Write a code to check if the key \"city\" exists in the dictionary {'name': 'Alice', 'city': 'Paris'}.\n",
    "d3 = {'name': 'Alice', 'city': 'Paris'}\n",
    "if \"city\" in d3:\n",
    "    print(\"yes city exists\")\n",
    "else:\n",
    "    print(\"Did not get\")"
   ]
  },
  {
   "cell_type": "code",
   "execution_count": 29,
   "id": "ab171881-e0a4-4157-8f4b-4f594e0551d1",
   "metadata": {},
   "outputs": [
    {
     "name": "stdout",
     "output_type": "stream",
     "text": [
      "[1, 2, 3, 4, 5, 6]\n",
      "(1, 23, 4, 5, 56, 7, 7)\n",
      "{'name': 'jigyansu', 'sure_name': 'tripathi', 'city': 'satna', 'age': 25}\n"
     ]
    }
   ],
   "source": [
    "#Write a code to create a list, a tuple, and a dictionary, and print them all.\n",
    "#list \n",
    "l1 = [1,2,3,4,5,6]\n",
    "print(l1)\n",
    "#Tuple\n",
    "t1=(1,23,4,5,56,7,7)\n",
    "print(t1)\n",
    "#Dictionary\n",
    "d1  ={\"name\":\"jigyansu\",\"sure_name\":\"tripathi\",\"city\":\"satna\",\"age\":25}\n",
    "print(d1)"
   ]
  },
  {
   "cell_type": "code",
   "execution_count": 30,
   "id": "38e1d4e1-a546-4d99-be0d-0ffefcdb5704",
   "metadata": {},
   "outputs": [
    {
     "data": {
      "text/plain": [
       "[2, 5, 10, 60, 75]"
      ]
     },
     "execution_count": 30,
     "metadata": {},
     "output_type": "execute_result"
    }
   ],
   "source": [
    "#Write a code to create a list of 5 random numbers between 1 and 100, sort it in ascending order, and print the result.\n",
    "List1 = [2,5,10,60,75]\n",
    "List1.sort()\n",
    "List1"
   ]
  },
  {
   "cell_type": "code",
   "execution_count": 31,
   "id": "cd103edf-2365-408c-a829-01afeaf8a4e6",
   "metadata": {},
   "outputs": [
    {
     "data": {
      "text/plain": [
       "'orange'"
      ]
     },
     "execution_count": 31,
     "metadata": {},
     "output_type": "execute_result"
    }
   ],
   "source": [
    "#Write a code to create a list with strings and print the element at the third index.\n",
    "words = [\"apple\",\"banana\",\"orange\",\"carrot\",\"fish\",\"murga\"]\n",
    "words[2]"
   ]
  },
  {
   "cell_type": "code",
   "execution_count": 32,
   "id": "feae5f3f-5969-4a93-be19-978fc2e2c6c1",
   "metadata": {},
   "outputs": [
    {
     "name": "stdout",
     "output_type": "stream",
     "text": [
      "({'name': 'jigyansu', 'sure_name': 'tripathi', 'city': 'satna', 'age': 25}, {'Address': 'krishna nagar colony, Amarpatan'})\n"
     ]
    }
   ],
   "source": [
    "#Write a code to combine two dictionaries into one and print the result.\n",
    "d1 = {\"name\":\"jigyansu\",\"sure_name\":\"tripathi\",\"city\":\"satna\",\"age\":25}\n",
    "d2 = {\"Address\":\"krishna nagar colony, Amarpatan\"}\n",
    "d =(d1,d2)\n",
    "print(d)"
   ]
  },
  {
   "cell_type": "code",
   "execution_count": 33,
   "id": "c8a902f3-f426-45a4-ac27-734ae9f5360f",
   "metadata": {},
   "outputs": [
    {
     "name": "stdout",
     "output_type": "stream",
     "text": [
      "{'orange', 'apple', 'banana', 'kiwi'}\n"
     ]
    }
   ],
   "source": [
    "#Write a code to convert a list of strings into a set.\n",
    "fruits=(\"apple\",\"orange\",\"banana\",\"kiwi\")\n",
    "set_=set(fruits)\n",
    "print(set_)"
   ]
  },
  {
   "cell_type": "code",
   "execution_count": null,
   "id": "0a0eb27e-5c27-405d-a0b1-5d251e617331",
   "metadata": {},
   "outputs": [],
   "source": []
  }
 ],
 "metadata": {
  "kernelspec": {
   "display_name": "Python 3 (ipykernel)",
   "language": "python",
   "name": "python3"
  },
  "language_info": {
   "codemirror_mode": {
    "name": "ipython",
    "version": 3
   },
   "file_extension": ".py",
   "mimetype": "text/x-python",
   "name": "python",
   "nbconvert_exporter": "python",
   "pygments_lexer": "ipython3",
   "version": "3.12.8"
  }
 },
 "nbformat": 4,
 "nbformat_minor": 5
}
